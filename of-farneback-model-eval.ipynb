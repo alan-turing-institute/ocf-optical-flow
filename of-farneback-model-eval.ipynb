{
 "cells": [
  {
   "cell_type": "markdown",
   "id": "414442a8-6c62-4365-b71c-19cc6cb93251",
   "metadata": {},
   "source": [
    "## Load sample from dataset"
   ]
  },
  {
   "cell_type": "code",
   "execution_count": 1,
   "id": "86f82aff-ae2b-4c70-a31b-d4ad991831e4",
   "metadata": {},
   "outputs": [],
   "source": [
    "# First we'll load a sample from the dataset. We'll use this sample later\n",
    "from cloudcasting.dataset import SatelliteDataset\n",
    "\n",
    "dataset = SatelliteDataset(\n",
    "    zarr_path=\"/bask/homes/l/lwcf1795/vjgo8416-climate/users/lwcf1795/data/2020_training_nonhrv.zarr\",\n",
    "    start_time=\"2020-06-01\",\n",
    "    end_time=\"2020-06-15\",\n",
    "    history_mins=15,\n",
    "    forecast_mins=180,\n",
    "    sample_freq_mins=15,\n",
    ")\n",
    "\n",
    "# Grab a single sample\n",
    "X, y = dataset[1000]"
   ]
  },
  {
   "cell_type": "markdown",
   "id": "5c001fd5-6063-4a86-8d58-3fbe36e4cf98",
   "metadata": {},
   "source": [
    "## Import AbstractModel class and requirements for Optical Flow Model"
   ]
  },
  {
   "cell_type": "code",
   "execution_count": 2,
   "id": "d93c5930-09ac-4af8-827c-a2a1d7b9b1b6",
   "metadata": {},
   "outputs": [],
   "source": [
    "# optical flow model requirements\n",
    "import seaborn as sns\n",
    "import xarray as xr\n",
    "import cv2\n",
    "import numpy as np\n",
    "import matplotlib.pyplot as plt\n",
    "import cartopy.crs as ccrs  # CRS stands for \"coordinate reference system\"\n",
    "from skimage import metrics\n",
    "\n",
    "# We import the AbstractModel class\n",
    "from cloudcasting.models import AbstractModel"
   ]
  },
  {
   "cell_type": "markdown",
   "id": "d47a2043-08c5-4866-8e7a-1176b33e225a",
   "metadata": {},
   "source": [
    "## Define model class for OpticalFlowFarneback model"
   ]
  },
  {
   "cell_type": "code",
   "execution_count": 3,
   "id": "1e3a6307-a972-4b28-b384-a7a0886834fa",
   "metadata": {},
   "outputs": [],
   "source": [
    "# We define a new class that inherits from AbstractModel\n",
    "class OpticalFlowFarnebackModel(AbstractModel):\n",
    "    \"\"\"An optical flow model which predicts the next image given the prior two images using the Farneback method\"\"\"\n",
    "\n",
    "    def __init__(self, history_steps: int) -> None:\n",
    "        # All models must include `history_steps` as a parameter. This is the number of previous\n",
    "        # frames that the model uses to makes its predictions. This should not be more than 25, i.e.\n",
    "        # 6 hours (inclusive of end points) of 15 minutely data\n",
    "\n",
    "        # You also must inlude the following line in your init function\n",
    "        super().__init__(history_steps)\n",
    "\n",
    "\n",
    "        ###### YOUR CODE HERE ######\n",
    "        # Here you can add any other parameters that you need to initialize your model\n",
    "        # You might load your trained ML model or set up an optical flow method here\n",
    "\n",
    "        ############################\n",
    "\n",
    "\n",
    "    def forward(self, X):\n",
    "        # This is where you will make predictions with your model\n",
    "        # The input X is a numpy array with shape (batch_size, channels, time, height, width)\n",
    "\n",
    "        ###### YOUR CODE HERE ######\n",
    "\n",
    "        # Grab the most recent frame from the input data\n",
    "        samples_list = []\n",
    "        \n",
    "        for b in range (X.shape[0]): \n",
    "            channel_list = []\n",
    "\n",
    "            for c in range (X.shape[1]): \n",
    "                previous_image = X[b, c, -2, :, :]\n",
    "                current_image = X[b, c, -1, :, :]\n",
    "\n",
    "                new_image_list = []\n",
    "\n",
    "                for i in range (12):\n",
    "\n",
    "                    # convert to uint8 data type\n",
    "                    image1 = (previous_image * 255).astype(np.uint8)\n",
    "                    image2 = (current_image * 255).astype(np.uint8)\n",
    "\n",
    "                    # Predict next frame (image3) for next 12 time steps\n",
    "                    # This is the next 3 hours at 15 minute intervals\n",
    "                    flow = cv2.calcOpticalFlowFarneback(image1, image2, None, pyr_scale = 0.5, levels = 5, winsize = 11, iterations = 5, poly_n = 5, poly_sigma = 1.1, flags = 0)\n",
    "\n",
    "                    # extracting flow components\n",
    "                    u = flow[..., 0] # width\n",
    "                    v = flow[..., 1] # height\n",
    "\n",
    "                    #predict next image\n",
    "                    h = flow.shape[0]\n",
    "                    w = flow.shape[1]\n",
    "                    flow2 = -flow.copy()\n",
    "                    flow2[:,:,0] += np.arange(w)\n",
    "                    flow2[:,:,1] += np.arange(h)[:,np.newaxis]\n",
    "\n",
    "                    new_image = cv2.remap(image2, flow2, None, cv2.INTER_LINEAR)\n",
    "                    new_image_list.append(new_image.astype(np.float32)/255)\n",
    "\n",
    "                    previous_image = image2.astype(float)/255\n",
    "                    current_image = new_image.astype(float)/255\n",
    "                ############################\n",
    "                image_stack = np.stack(new_image_list)\n",
    "                channel_list.append(image_stack)\n",
    "            channel_stack = np.stack(channel_list)\n",
    "            samples_list.append(channel_stack)\n",
    "        samples_stack = np.stack(samples_list)\n",
    "        return samples_stack\n",
    "\n",
    "    def hyperparameters_dict(self):\n",
    "\n",
    "        # This function should return a dictionary of hyperparameters for the model\n",
    "        # This is just for your own reference and will be saved with the model scores to wandb\n",
    "\n",
    "        ###### YOUR CODE HERE ######\n",
    "\n",
    "        params_dict =  {\n",
    "            \"pyr_scale\": 0.5,\n",
    "            \"levels\": 5,\n",
    "            \"winsize\": 11,\n",
    "            \"iterations\" : 5,\n",
    "            \"poly_n\" : 5,\n",
    "            \"poly_sigma\" : 1.1,\n",
    "            \"flags\" : 0\n",
    "            \n",
    "        }\n",
    "\n",
    "        ############################\n",
    "\n",
    "        return params_dict"
   ]
  },
  {
   "cell_type": "code",
   "execution_count": 4,
   "id": "916b0797-2979-4db4-8eaa-8ab49ea8b824",
   "metadata": {},
   "outputs": [],
   "source": [
    "# Instantiate the model\n",
    "model = OpticalFlowFarnebackModel(\n",
    "    history_steps=2)"
   ]
  },
  {
   "cell_type": "code",
   "execution_count": 5,
   "id": "cfb24641-0059-4d94-b773-2ecb2d5631fc",
   "metadata": {},
   "outputs": [
    {
     "name": "stdout",
     "output_type": "stream",
     "text": [
      "{'pyr_scale': 0.5, 'levels': 5, 'winsize': 11, 'iterations': 5, 'poly_n': 5, 'poly_sigma': 1.1, 'flags': 0}\n"
     ]
    }
   ],
   "source": [
    "# Make sure the hyperparameters_dict method works\n",
    "print(model.hyperparameters_dict())"
   ]
  },
  {
   "cell_type": "code",
   "execution_count": 6,
   "id": "f01c3f89-9ad7-4284-a213-019cdc98fc40",
   "metadata": {},
   "outputs": [
    {
     "name": "stderr",
     "output_type": "stream",
     "text": [
      "/tmp/ipykernel_2605877/2597848727.py:42: RuntimeWarning: invalid value encountered in cast\n",
      "  image1 = (previous_image * 255).astype(np.uint8)\n",
      "/tmp/ipykernel_2605877/2597848727.py:43: RuntimeWarning: invalid value encountered in cast\n",
      "  image2 = (current_image * 255).astype(np.uint8)\n"
     ]
    }
   ],
   "source": [
    "# Make sure the forward method works\n",
    "y_hat = model(X[np.newaxis, ...])"
   ]
  },
  {
   "cell_type": "markdown",
   "id": "4b06c167-cf84-47df-a088-03ff7296cf6b",
   "metadata": {},
   "source": [
    "## Evaluate the model"
   ]
  },
  {
   "cell_type": "code",
   "execution_count": 9,
   "id": "b810b07d-8746-47f5-9034-fbfd96231e31",
   "metadata": {},
   "outputs": [],
   "source": [
    "# Import the validate function\n",
    "from cloudcasting.validation import validate\n",
    "\n",
    "# Define the wandb project and run name where the results will be logged\n",
    "\n",
    "# The wandb project is essentially the folder where the results will be stored on wandb.\n",
    "# You should log your results to the \"cloudcasting\" folder. However, you can create a new project\n",
    "# just for your owen results if you want to keep them separate from the main project. To create your\n",
    "# own project, just change the WANDB_PROJECT variable to a new name.\n",
    "WANDB_PROJECT = \"cloudcasting\"\n",
    "\n",
    "\n",
    "# The wandb run name is the name that this specific call of the validate function will be logged\n",
    "# under within the project. You can change this to whatever you like.\n",
    "WANDB_RUN_NAME = \"optical-flow-farneback-test3\""
   ]
  },
  {
   "cell_type": "code",
   "execution_count": 14,
   "id": "5d6072b0-001b-497b-b26a-097f0b911be1",
   "metadata": {},
   "outputs": [
    {
     "name": "stderr",
     "output_type": "stream",
     "text": [
      "  0%|          | 0/20 [00:00<?, ?it/s]/tmp/ipykernel_2605877/2597848727.py:42: RuntimeWarning: invalid value encountered in cast\n",
      "  image1 = (previous_image * 255).astype(np.uint8)\n",
      "/tmp/ipykernel_2605877/2597848727.py:43: RuntimeWarning: invalid value encountered in cast\n",
      "  image2 = (current_image * 255).astype(np.uint8)\n",
      " 40%|████      | 8/20 [03:24<05:06, 25.55s/it]\n"
     ]
    },
    {
     "ename": "KeyboardInterrupt",
     "evalue": "",
     "output_type": "error",
     "traceback": [
      "\u001b[0;31m---------------------------------------------------------------------------\u001b[0m",
      "\u001b[0;31mKeyboardInterrupt\u001b[0m                         Traceback (most recent call last)",
      "Cell \u001b[0;32mIn[14], line 1\u001b[0m\n\u001b[0;32m----> 1\u001b[0m \u001b[43mvalidate\u001b[49m\u001b[43m(\u001b[49m\n\u001b[1;32m      2\u001b[0m \u001b[43m    \u001b[49m\u001b[43mmodel\u001b[49m\u001b[38;5;241;43m=\u001b[39;49m\u001b[43mmodel\u001b[49m\u001b[43m,\u001b[49m\n\u001b[1;32m      3\u001b[0m \u001b[43m    \u001b[49m\u001b[43mdata_path\u001b[49m\u001b[38;5;241;43m=\u001b[39;49m\u001b[38;5;124;43m\"\u001b[39;49m\u001b[38;5;124;43m/bask/homes/l/lwcf1795/vjgo8416-climate/shared/data/eumetsat/testing2022/2022_test_nonhrv.zarr\u001b[39;49m\u001b[38;5;124;43m\"\u001b[39;49m\u001b[43m,\u001b[49m\n\u001b[1;32m      4\u001b[0m \u001b[43m    \u001b[49m\u001b[43mwandb_project_name\u001b[49m\u001b[38;5;241;43m=\u001b[39;49m\u001b[43mWANDB_PROJECT\u001b[49m\u001b[43m,\u001b[49m\n\u001b[1;32m      5\u001b[0m \u001b[43m    \u001b[49m\u001b[43mwandb_run_name\u001b[49m\u001b[38;5;241;43m=\u001b[39;49m\u001b[43mWANDB_RUN_NAME\u001b[49m\u001b[43m,\u001b[49m\n\u001b[1;32m      6\u001b[0m \u001b[43m    \u001b[49m\u001b[43mbatch_size\u001b[49m\u001b[43m \u001b[49m\u001b[38;5;241;43m=\u001b[39;49m\u001b[43m \u001b[49m\u001b[38;5;241;43m2\u001b[39;49m\u001b[43m,\u001b[49m\n\u001b[1;32m      7\u001b[0m \u001b[43m    \u001b[49m\u001b[43mnum_workers\u001b[49m\u001b[43m \u001b[49m\u001b[38;5;241;43m=\u001b[39;49m\u001b[43m \u001b[49m\u001b[38;5;241;43m0\u001b[39;49m\u001b[43m,\u001b[49m\n\u001b[1;32m      8\u001b[0m \u001b[43m    \u001b[49m\u001b[43mbatch_limit\u001b[49m\u001b[43m \u001b[49m\u001b[38;5;241;43m=\u001b[39;49m\u001b[43m \u001b[49m\u001b[38;5;241;43m20\u001b[39;49m\u001b[43m,\u001b[49m\u001b[43m  \u001b[49m\u001b[38;5;66;43;03m# We limit the number of batches to 20 for this example\u001b[39;49;00m\n\u001b[1;32m      9\u001b[0m \u001b[43m)\u001b[49m\n",
      "File \u001b[0;32m/bask/projects/v/vjgo8416-climate/of_cloud/lib/python3.12/site-packages/cloudcasting/validation.py:235\u001b[0m, in \u001b[0;36mvalidate\u001b[0;34m(model, data_path, wandb_project_name, wandb_run_name, nan_to_num, batch_size, num_workers, batch_limit)\u001b[0m\n\u001b[1;32m    226\u001b[0m valid_dataset \u001b[38;5;241m=\u001b[39m ValidationSatelliteDataset(\n\u001b[1;32m    227\u001b[0m     zarr_path\u001b[38;5;241m=\u001b[39mdata_path,\n\u001b[1;32m    228\u001b[0m     history_mins\u001b[38;5;241m=\u001b[39mmodel\u001b[38;5;241m.\u001b[39mhistory_steps \u001b[38;5;241m*\u001b[39m DATA_INTERVAL_SPACING_MINUTES,\n\u001b[0;32m   (...)\u001b[0m\n\u001b[1;32m    231\u001b[0m     nan_to_num\u001b[38;5;241m=\u001b[39mnan_to_num,\n\u001b[1;32m    232\u001b[0m )\n\u001b[1;32m    234\u001b[0m \u001b[38;5;66;03m# Calculate the metrics before logging to wandb\u001b[39;00m\n\u001b[0;32m--> 235\u001b[0m horizon_metrics_dict \u001b[38;5;241m=\u001b[39m \u001b[43mscore_model_on_all_metrics\u001b[49m\u001b[43m(\u001b[49m\n\u001b[1;32m    236\u001b[0m \u001b[43m    \u001b[49m\u001b[43mmodel\u001b[49m\u001b[43m,\u001b[49m\n\u001b[1;32m    237\u001b[0m \u001b[43m    \u001b[49m\u001b[43mvalid_dataset\u001b[49m\u001b[43m,\u001b[49m\n\u001b[1;32m    238\u001b[0m \u001b[43m    \u001b[49m\u001b[43mbatch_size\u001b[49m\u001b[38;5;241;43m=\u001b[39;49m\u001b[43mbatch_size\u001b[49m\u001b[43m,\u001b[49m\n\u001b[1;32m    239\u001b[0m \u001b[43m    \u001b[49m\u001b[43mnum_workers\u001b[49m\u001b[38;5;241;43m=\u001b[39;49m\u001b[43mnum_workers\u001b[49m\u001b[43m,\u001b[49m\n\u001b[1;32m    240\u001b[0m \u001b[43m    \u001b[49m\u001b[43mbatch_limit\u001b[49m\u001b[38;5;241;43m=\u001b[39;49m\u001b[43mbatch_limit\u001b[49m\u001b[43m,\u001b[49m\n\u001b[1;32m    241\u001b[0m \u001b[43m\u001b[49m\u001b[43m)\u001b[49m\n\u001b[1;32m    243\u001b[0m \u001b[38;5;66;03m# Calculate the mean of each metric over the forecast horizon\u001b[39;00m\n\u001b[1;32m    244\u001b[0m mean_metrics_dict \u001b[38;5;241m=\u001b[39m calc_mean_metrics(horizon_metrics_dict)\n",
      "File \u001b[0;32m/bask/projects/v/vjgo8416-climate/of_cloud/lib/python3.12/site-packages/cloudcasting/validation.py:163\u001b[0m, in \u001b[0;36mscore_model_on_all_metrics\u001b[0;34m(model, valid_dataset, batch_size, num_workers, batch_limit)\u001b[0m\n\u001b[1;32m    160\u001b[0m loop_steps \u001b[38;5;241m=\u001b[39m \u001b[38;5;28mlen\u001b[39m(valid_dataloader) \u001b[38;5;28;01mif\u001b[39;00m batch_limit \u001b[38;5;129;01mis\u001b[39;00m \u001b[38;5;28;01mNone\u001b[39;00m \u001b[38;5;28;01melse\u001b[39;00m batch_limit\n\u001b[1;32m    162\u001b[0m \u001b[38;5;28;01mfor\u001b[39;00m i, (X, y) \u001b[38;5;129;01min\u001b[39;00m tqdm(\u001b[38;5;28menumerate\u001b[39m(valid_dataloader), total\u001b[38;5;241m=\u001b[39mloop_steps):\n\u001b[0;32m--> 163\u001b[0m     y_hat \u001b[38;5;241m=\u001b[39m \u001b[43mmodel\u001b[49m\u001b[43m(\u001b[49m\u001b[43mX\u001b[49m\u001b[43m)\u001b[49m\n\u001b[1;32m    165\u001b[0m     \u001b[38;5;66;03m# If nan_to_num is used in the dataset, the model will output -1 for NaNs. We need to\u001b[39;00m\n\u001b[1;32m    166\u001b[0m     \u001b[38;5;66;03m# convert these back to NaNs for the metrics\u001b[39;00m\n\u001b[1;32m    167\u001b[0m     y[y \u001b[38;5;241m==\u001b[39m \u001b[38;5;241m-\u001b[39m\u001b[38;5;241m1\u001b[39m] \u001b[38;5;241m=\u001b[39m np\u001b[38;5;241m.\u001b[39mnan\n",
      "    \u001b[0;31m[... skipping hidden 1 frame]\u001b[0m\n",
      "File \u001b[0;32m/bask/projects/v/vjgo8416-climate/of_cloud/lib/python3.12/site-packages/jaxtyping/_decorator.py:449\u001b[0m, in \u001b[0;36mjaxtyped.<locals>.wrapped_fn_impl\u001b[0;34m(args, kwargs, bound, memos)\u001b[0m\n\u001b[1;32m    446\u001b[0m             \u001b[38;5;28;01mraise\u001b[39;00m TypeCheckError(msg) \u001b[38;5;28;01mfrom\u001b[39;00m \u001b[38;5;21;01me\u001b[39;00m\n\u001b[1;32m    448\u001b[0m \u001b[38;5;66;03m# Actually call the function.\u001b[39;00m\n\u001b[0;32m--> 449\u001b[0m out \u001b[38;5;241m=\u001b[39m \u001b[43mfn\u001b[49m\u001b[43m(\u001b[49m\u001b[38;5;241;43m*\u001b[39;49m\u001b[43margs\u001b[49m\u001b[43m,\u001b[49m\u001b[43m \u001b[49m\u001b[38;5;241;43m*\u001b[39;49m\u001b[38;5;241;43m*\u001b[39;49m\u001b[43mkwargs\u001b[49m\u001b[43m)\u001b[49m\n\u001b[1;32m    451\u001b[0m \u001b[38;5;28;01mif\u001b[39;00m full_signature\u001b[38;5;241m.\u001b[39mreturn_annotation \u001b[38;5;129;01mis\u001b[39;00m \u001b[38;5;129;01mnot\u001b[39;00m inspect\u001b[38;5;241m.\u001b[39mSignature\u001b[38;5;241m.\u001b[39mempty:\n\u001b[1;32m    452\u001b[0m     \u001b[38;5;66;03m# Now type-check the return value. We need to include the\u001b[39;00m\n\u001b[1;32m    453\u001b[0m     \u001b[38;5;66;03m# parameters in the type-checking here in case there are any\u001b[39;00m\n\u001b[0;32m   (...)\u001b[0m\n\u001b[1;32m    464\u001b[0m     \u001b[38;5;66;03m# checking of the parameters. Unfortunately there doesn't seem\u001b[39;00m\n\u001b[1;32m    465\u001b[0m     \u001b[38;5;66;03m# to be a way around that, so c'est la vie.\u001b[39;00m\n\u001b[1;32m    466\u001b[0m     kwargs[output_name] \u001b[38;5;241m=\u001b[39m out\n",
      "File \u001b[0;32m/bask/projects/v/vjgo8416-climate/of_cloud/lib/python3.12/site-packages/cloudcasting/models.py:50\u001b[0m, in \u001b[0;36mAbstractModel.__call__\u001b[0;34m(self, X)\u001b[0m\n\u001b[1;32m     49\u001b[0m \u001b[38;5;28;01mdef\u001b[39;00m \u001b[38;5;21m__call__\u001b[39m(\u001b[38;5;28mself\u001b[39m, X: BatchInputArray) \u001b[38;5;241m-\u001b[39m\u001b[38;5;241m>\u001b[39m BatchOutputArray:\n\u001b[0;32m---> 50\u001b[0m     y_hat \u001b[38;5;241m=\u001b[39m \u001b[38;5;28;43mself\u001b[39;49m\u001b[38;5;241;43m.\u001b[39;49m\u001b[43mforward\u001b[49m\u001b[43m(\u001b[49m\u001b[43mX\u001b[49m\u001b[43m)\u001b[49m\n\u001b[1;32m     52\u001b[0m     \u001b[38;5;66;03m# Carry out a set of checks on the predictions to make sure they conform to the\u001b[39;00m\n\u001b[1;32m     53\u001b[0m     \u001b[38;5;66;03m# expectations of the validation script\u001b[39;00m\n\u001b[1;32m     54\u001b[0m     \u001b[38;5;28mself\u001b[39m\u001b[38;5;241m.\u001b[39mcheck_predictions(y_hat)\n",
      "Cell \u001b[0;32mIn[3], line 47\u001b[0m, in \u001b[0;36mOpticalFlowFarnebackModel.forward\u001b[0;34m(self, X)\u001b[0m\n\u001b[1;32m     43\u001b[0m image2 \u001b[38;5;241m=\u001b[39m (current_image \u001b[38;5;241m*\u001b[39m \u001b[38;5;241m255\u001b[39m)\u001b[38;5;241m.\u001b[39mastype(np\u001b[38;5;241m.\u001b[39muint8)\n\u001b[1;32m     45\u001b[0m \u001b[38;5;66;03m# Predict next frame (image3) for next 12 time steps\u001b[39;00m\n\u001b[1;32m     46\u001b[0m \u001b[38;5;66;03m# This is the next 3 hours at 15 minute intervals\u001b[39;00m\n\u001b[0;32m---> 47\u001b[0m flow \u001b[38;5;241m=\u001b[39m \u001b[43mcv2\u001b[49m\u001b[38;5;241;43m.\u001b[39;49m\u001b[43mcalcOpticalFlowFarneback\u001b[49m\u001b[43m(\u001b[49m\u001b[43mimage1\u001b[49m\u001b[43m,\u001b[49m\u001b[43m \u001b[49m\u001b[43mimage2\u001b[49m\u001b[43m,\u001b[49m\u001b[43m \u001b[49m\u001b[38;5;28;43;01mNone\u001b[39;49;00m\u001b[43m,\u001b[49m\u001b[43m \u001b[49m\u001b[43mpyr_scale\u001b[49m\u001b[43m \u001b[49m\u001b[38;5;241;43m=\u001b[39;49m\u001b[43m \u001b[49m\u001b[38;5;241;43m0.5\u001b[39;49m\u001b[43m,\u001b[49m\u001b[43m \u001b[49m\u001b[43mlevels\u001b[49m\u001b[43m \u001b[49m\u001b[38;5;241;43m=\u001b[39;49m\u001b[43m \u001b[49m\u001b[38;5;241;43m5\u001b[39;49m\u001b[43m,\u001b[49m\u001b[43m \u001b[49m\u001b[43mwinsize\u001b[49m\u001b[43m \u001b[49m\u001b[38;5;241;43m=\u001b[39;49m\u001b[43m \u001b[49m\u001b[38;5;241;43m11\u001b[39;49m\u001b[43m,\u001b[49m\u001b[43m \u001b[49m\u001b[43miterations\u001b[49m\u001b[43m \u001b[49m\u001b[38;5;241;43m=\u001b[39;49m\u001b[43m \u001b[49m\u001b[38;5;241;43m5\u001b[39;49m\u001b[43m,\u001b[49m\u001b[43m \u001b[49m\u001b[43mpoly_n\u001b[49m\u001b[43m \u001b[49m\u001b[38;5;241;43m=\u001b[39;49m\u001b[43m \u001b[49m\u001b[38;5;241;43m5\u001b[39;49m\u001b[43m,\u001b[49m\u001b[43m \u001b[49m\u001b[43mpoly_sigma\u001b[49m\u001b[43m \u001b[49m\u001b[38;5;241;43m=\u001b[39;49m\u001b[43m \u001b[49m\u001b[38;5;241;43m1.1\u001b[39;49m\u001b[43m,\u001b[49m\u001b[43m \u001b[49m\u001b[43mflags\u001b[49m\u001b[43m \u001b[49m\u001b[38;5;241;43m=\u001b[39;49m\u001b[43m \u001b[49m\u001b[38;5;241;43m0\u001b[39;49m\u001b[43m)\u001b[49m\n\u001b[1;32m     49\u001b[0m \u001b[38;5;66;03m# extracting flow components\u001b[39;00m\n\u001b[1;32m     50\u001b[0m u \u001b[38;5;241m=\u001b[39m flow[\u001b[38;5;241m.\u001b[39m\u001b[38;5;241m.\u001b[39m\u001b[38;5;241m.\u001b[39m, \u001b[38;5;241m0\u001b[39m] \u001b[38;5;66;03m# width\u001b[39;00m\n",
      "\u001b[0;31mKeyboardInterrupt\u001b[0m: "
     ]
    }
   ],
   "source": [
    "validate(\n",
    "    model=model,\n",
    "    data_path=\"/bask/homes/l/lwcf1795/vjgo8416-climate/shared/data/eumetsat/testing2022/2022_test_nonhrv.zarr\",\n",
    "    wandb_project_name=WANDB_PROJECT,\n",
    "    wandb_run_name=WANDB_RUN_NAME,\n",
    "    batch_size = 2,\n",
    "    num_workers = 0,\n",
    "    batch_limit = 20,  # We limit the number of batches to 20 for this example\n",
    ")"
   ]
  }
 ],
 "metadata": {
  "kernelspec": {
   "display_name": "of_cloud (Conda)",
   "language": "python",
   "name": "sys_of_cloud"
  },
  "language_info": {
   "codemirror_mode": {
    "name": "ipython",
    "version": 3
   },
   "file_extension": ".py",
   "mimetype": "text/x-python",
   "name": "python",
   "nbconvert_exporter": "python",
   "pygments_lexer": "ipython3",
   "version": "3.12.4"
  }
 },
 "nbformat": 4,
 "nbformat_minor": 5
}
