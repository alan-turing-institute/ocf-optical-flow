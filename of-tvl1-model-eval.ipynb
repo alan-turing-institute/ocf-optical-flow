{
 "cells": [
  {
   "cell_type": "code",
   "execution_count": 1,
   "id": "10c01035-ba48-44f3-b7d6-0717df3b7dd2",
   "metadata": {},
   "outputs": [],
   "source": [
    "# First we'll load a sample from the dataset. We'll use this sample later\n",
    "from cloudcasting.dataset import SatelliteDataset\n",
    "\n",
    "dataset = SatelliteDataset(\n",
    "    zarr_path=\"/bask/homes/l/lwcf1795/vjgo8416-climate/users/lwcf1795/data/2020_training_nonhrv.zarr\",\n",
    "    start_time=\"2020-06-01\",\n",
    "    end_time=\"2020-06-15\",\n",
    "    history_mins=15,\n",
    "    forecast_mins=180,\n",
    "    sample_freq_mins=15,\n",
    ")\n",
    "\n",
    "# Grab a single sample\n",
    "X, y = dataset[1000]"
   ]
  },
  {
   "cell_type": "code",
   "execution_count": 2,
   "id": "b7950dcc-ecbb-4824-bef4-180bae8ddbba",
   "metadata": {},
   "outputs": [],
   "source": [
    "# optical flow model requirements\n",
    "import seaborn as sns\n",
    "import xarray as xr\n",
    "import cv2\n",
    "import numpy as np\n",
    "import matplotlib.pyplot as plt\n",
    "import cartopy.crs as ccrs  # CRS stands for \"coordinate reference system\"\n",
    "from skimage import metrics\n",
    "\n",
    "# We import the AbstractModel class\n",
    "from cloudcasting.models import AbstractModel"
   ]
  },
  {
   "cell_type": "code",
   "execution_count": 3,
   "id": "ae4e6871-1dc7-4ecd-ac06-fa2675fa8325",
   "metadata": {},
   "outputs": [],
   "source": [
    "# We define a new class that inherits from AbstractModel\n",
    "class OpticalFlowTVL1Model(AbstractModel):\n",
    "    \"\"\"An optical flow model which predicts the next image given the prior two images using the TVL1 method\"\"\"\n",
    "\n",
    "    def __init__(self, history_steps: int) -> None:\n",
    "        # All models must include `history_steps` as a parameter. This is the number of previous\n",
    "        # frames that the model uses to makes its predictions. This should not be more than 25, i.e.\n",
    "        # 6 hours (inclusive of end points) of 15 minutely data\n",
    "\n",
    "        # You also must inlude the following line in your init function\n",
    "        super().__init__(history_steps)\n",
    "\n",
    "\n",
    "        ###### YOUR CODE HERE ######\n",
    "        # Here you can add any other parameters that you need to initialize your model\n",
    "        # You might load your trained ML model or set up an optical flow method here\n",
    "\n",
    "        ############################\n",
    "\n",
    "\n",
    "    def forward(self, X):\n",
    "        # This is where you will make predictions with your model\n",
    "        # The input X is a numpy array with shape (batch_size, channels, time, height, width)\n",
    "\n",
    "        ###### YOUR CODE HERE ######\n",
    "\n",
    "        # Grab the most recent frame from the input data\n",
    "        samples_list = []\n",
    "        \n",
    "        for b in range (X.shape[0]): \n",
    "            channel_list = []\n",
    "\n",
    "            for c in range (X.shape[1]): \n",
    "                previous_image = X[b, c, -2, :, :]\n",
    "                current_image = X[b, c, -1, :, :]\n",
    "\n",
    "                new_image_list = []\n",
    "\n",
    "                for i in range (12):\n",
    "\n",
    "                    # convert to uint8 data type\n",
    "                    image1 = (previous_image * 255).astype(np.uint8)\n",
    "                    image2 = (current_image * 255).astype(np.uint8)\n",
    "                    \n",
    "                    optical_flow = cv2.optflow.createOptFlow_DualTVL1()\n",
    "                \n",
    "                    #optimise parameters (taken from Urbich et al. 2018 cloud imagery use case)\n",
    "                    optical_flow.setTau(0.1)\n",
    "                    optical_flow.setGamma(0.1)\n",
    "                    optical_flow.setLambda(0.03) #Urbich et al. 2018 \n",
    "                    optical_flow.setTheta(0.3) #default\n",
    "                    optical_flow.setEpsilon(0.01)\n",
    "                    optical_flow.setOuterIterations(2) #Urbich et al. 2018\n",
    "                    optical_flow.setInnerIterations(10) #Urbich et al. 2018\n",
    "                    optical_flow.setScalesNumber(3) #Urbich et al. 2018\n",
    "                    optical_flow.setWarpingsNumber(3) #Urbich et al. 2018\n",
    "                    optical_flow.setScaleStep(0.5) #Urbich et al. 2018\n",
    "                    \n",
    "                    #calculate TVL1 optical flow\n",
    "                    flow = optical_flow.calc(image1, image2, None)\n",
    "\n",
    "                    # extracting flow components\n",
    "                    u = flow[..., 0] # width\n",
    "                    v = flow[..., 1] # height\n",
    "\n",
    "                    h = flow.shape[0]\n",
    "                    w = flow.shape[1]\n",
    "                    flow2 = -flow.copy()\n",
    "                    flow2[:,:,0] += np.arange(w)\n",
    "                    flow2[:,:,1] += np.arange(h)[:,np.newaxis]\n",
    "\n",
    "                    new_image = cv2.remap(image2, flow2, None, cv2.INTER_LINEAR)\n",
    "                    new_image_list.append(new_image.astype(np.float32)/255)\n",
    "\n",
    "                    previous_image = image2.astype(float)/255\n",
    "                    current_image = new_image.astype(float) / 255\n",
    "                ############################\n",
    "                image_stack = np.stack(new_image_list)\n",
    "                channel_list.append(image_stack)\n",
    "            channel_stack = np.stack(channel_list)\n",
    "            samples_list.append(channel_stack)\n",
    "        samples_stack = np.stack(samples_list)\n",
    "        return samples_stack\n",
    "\n",
    "    def hyperparameters_dict(self):\n",
    "\n",
    "        # This function should return a dictionary of hyperparameters for the model\n",
    "        # This is just for your own reference and will be saved with the model scores to wandb\n",
    "\n",
    "        ###### YOUR CODE HERE ######\n",
    "\n",
    "        params_dict =  {\n",
    "            \"setTau\": 0.1,\n",
    "            \"setGamma\": 0.1,\n",
    "            \"setLambda\": 0.03,\n",
    "            \"setTheta\" : 0.3,\n",
    "            \"setEpsilon\" : 0.01,\n",
    "            \"setOuterIterations\" : 2,\n",
    "            \"setInnerIterations\" : 10,\n",
    "            \"setScalesNumber\": 3,\n",
    "            \"setWarpingsNumber\" : 3,\n",
    "            \"setScaleStep\": 0.5\n",
    "            \n",
    "        }\n",
    "\n",
    "        ############################\n",
    "\n",
    "        return params_dict"
   ]
  },
  {
   "cell_type": "code",
   "execution_count": 4,
   "id": "0e18fce8-e971-4f61-860b-2f4bdec0811a",
   "metadata": {},
   "outputs": [],
   "source": [
    "# Instantiate the model\n",
    "model = OpticalFlowTVL1Model(\n",
    "    history_steps=2)"
   ]
  },
  {
   "cell_type": "code",
   "execution_count": 5,
   "id": "196e39cf-e35e-4ed2-9ef4-acea07dd0a77",
   "metadata": {},
   "outputs": [
    {
     "name": "stdout",
     "output_type": "stream",
     "text": [
      "{'setTau': 0.1, 'setGamma': 0.1, 'setLambda': 0.03, 'setTheta': 0.3, 'setEpsilon': 0.01, 'setOuterIterations': 2, 'setInnerIterations': 10, 'setScalesNumber': 3, 'setWarpingsNumber': 3, 'setScaleStep': 0.5}\n"
     ]
    }
   ],
   "source": [
    "# Make sure the hyperparameters_dict method works\n",
    "print(model.hyperparameters_dict())"
   ]
  },
  {
   "cell_type": "code",
   "execution_count": 6,
   "id": "bfa9844d-9374-49df-9920-9217bd6c60a6",
   "metadata": {},
   "outputs": [
    {
     "name": "stderr",
     "output_type": "stream",
     "text": [
      "/tmp/ipykernel_2575718/509157695.py:42: RuntimeWarning: invalid value encountered in cast\n",
      "  image1 = (previous_image * 255).astype(np.uint8)\n",
      "/tmp/ipykernel_2575718/509157695.py:43: RuntimeWarning: invalid value encountered in cast\n",
      "  image2 = (current_image * 255).astype(np.uint8)\n"
     ]
    }
   ],
   "source": [
    "# Make sure the forward method works\n",
    "y_hat = model(X[np.newaxis, ...])"
   ]
  },
  {
   "cell_type": "code",
   "execution_count": null,
   "id": "7b635b75-2f65-4b2b-a06f-5738dfe33f88",
   "metadata": {},
   "outputs": [],
   "source": [
    "# Import the validate function\n",
    "from cloudcasting.validation import validate\n",
    "\n",
    "# Define the wandb project and run name where the results will be logged\n",
    "\n",
    "# The wandb project is essentially the folder where the results will be stored on wandb.\n",
    "# You should log your results to the \"cloudcasting\" folder. However, you can create a new project\n",
    "# just for your owen results if you want to keep them separate from the main project. To create your\n",
    "# own project, just change the WANDB_PROJECT variable to a new name.\n",
    "WANDB_PROJECT = \"cloudcasting\"\n",
    "\n",
    "\n",
    "# The wandb run name is the name that this specific call of the validate function will be logged\n",
    "# under within the project. You can change this to whatever you like.\n",
    "WANDB_RUN_NAME = \"optical-flow-TVL1-test3\""
   ]
  },
  {
   "cell_type": "code",
   "execution_count": null,
   "id": "43cc7fb5-ee62-4d05-adc6-353f55d98982",
   "metadata": {},
   "outputs": [],
   "source": [
    "validate(\n",
    "    model=model,\n",
    "    data_path=\"/bask/homes/l/lwcf1795/vjgo8416-climate/shared/data/eumetsat/testing2022/2022_test_nonhrv.zarr\",\n",
    "    wandb_project_name=WANDB_PROJECT,\n",
    "    wandb_run_name=WANDB_RUN_NAME,\n",
    "    batch_size = 2,\n",
    "    num_workers = 0,\n",
    "    batch_limit = 20,  # We limit the number of batches to 20 for this example\n",
    ")"
   ]
  }
 ],
 "metadata": {
  "kernelspec": {
   "display_name": "of_cloud (Conda)",
   "language": "python",
   "name": "sys_of_cloud"
  },
  "language_info": {
   "codemirror_mode": {
    "name": "ipython",
    "version": 3
   },
   "file_extension": ".py",
   "mimetype": "text/x-python",
   "name": "python",
   "nbconvert_exporter": "python",
   "pygments_lexer": "ipython3",
   "version": "3.12.4"
  }
 },
 "nbformat": 4,
 "nbformat_minor": 5
}
